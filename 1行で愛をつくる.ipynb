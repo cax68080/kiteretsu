{
 "cells": [
  {
   "cell_type": "code",
   "execution_count": 3,
   "id": "aa39fc57",
   "metadata": {},
   "outputs": [
    {
     "name": "stdout",
     "output_type": "stream",
     "text": [
      "                                                            \n",
      "                                                            \n",
      "                                                            \n",
      "                veLoveLov           veLoveLov               \n",
      "            eLoveLoveLoveLove   eLoveLoveLoveLove           \n",
      "          veLoveLoveLoveLoveLoveLoveLoveLoveLoveLov         \n",
      "         veLoveLoveLoveLoveLoveLoveLoveLoveLoveLoveL        \n",
      "        veLoveLoveLoveLoveLoveLoveLoveLoveLoveLoveLov       \n",
      "        eLoveLoveLoveLoveLoveLoveLoveLoveLoveLoveLove       \n",
      "        LoveLoveLoveLoveLoveLoveLoveLoveLoveLoveLoveL       \n",
      "        oveLoveLoveLoveLoveLoveLoveLoveLoveLoveLoveLo       \n",
      "        veLoveLoveLoveLoveLoveLoveLoveLoveLoveLoveLov       \n",
      "        eLoveLoveLoveLoveLoveLoveLoveLoveLoveLoveLove       \n",
      "         oveLoveLoveLoveLoveLoveLoveLoveLoveLoveLove        \n",
      "          eLoveLoveLoveLoveLoveLoveLoveLoveLoveLove         \n",
      "          LoveLoveLoveLoveLoveLoveLoveLoveLoveLoveL         \n",
      "            eLoveLoveLoveLoveLoveLoveLoveLoveLove           \n",
      "             oveLoveLoveLoveLoveLoveLoveLoveLove            \n",
      "              eLoveLoveLoveLoveLoveLoveLoveLove             \n",
      "                veLoveLoveLoveLoveLoveLoveLov               \n",
      "                  oveLoveLoveLoveLoveLoveLo                 \n",
      "                    LoveLoveLoveLoveLoveL                   \n",
      "                       LoveLoveLoveLov                      \n",
      "                          LoveLoveL                         \n",
      "                             Lov                            \n",
      "                              v                             \n",
      "                                                            \n",
      "                                                            \n",
      "                                                            \n",
      "                                                            \n"
     ]
    }
   ],
   "source": [
    "print('\\n'.join([''.join([('Love'[(x - y) % len('Love')] if ((x * 0.05) ** 2 + (y * 0.1) ** 2 - 1) ** 3 - (x * 0.05) ** 2 * (y * 0.1) ** 3 <= 0 else ' ') for x in range(-30,30)]) for y in range(15,-15,-1)]))"
   ]
  },
  {
   "cell_type": "code",
   "execution_count": null,
   "id": "72d9a656",
   "metadata": {},
   "outputs": [],
   "source": []
  }
 ],
 "metadata": {
  "kernelspec": {
   "display_name": "Python 3 (ipykernel)",
   "language": "python",
   "name": "python3"
  },
  "language_info": {
   "codemirror_mode": {
    "name": "ipython",
    "version": 3
   },
   "file_extension": ".py",
   "mimetype": "text/x-python",
   "name": "python",
   "nbconvert_exporter": "python",
   "pygments_lexer": "ipython3",
   "version": "3.9.7"
  }
 },
 "nbformat": 4,
 "nbformat_minor": 5
}
