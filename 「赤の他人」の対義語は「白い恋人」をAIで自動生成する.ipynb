{
  "nbformat": 4,
  "nbformat_minor": 0,
  "metadata": {
    "colab": {
      "provenance": [],
      "authorship_tag": "ABX9TyPYX8O9QGE5aXFKXZU4YAe3",
      "include_colab_link": true
    },
    "kernelspec": {
      "name": "python3",
      "display_name": "Python 3"
    },
    "language_info": {
      "name": "python"
    }
  },
  "cells": [
    {
      "cell_type": "markdown",
      "metadata": {
        "id": "view-in-github",
        "colab_type": "text"
      },
      "source": [
        "<a href=\"https://colab.research.google.com/github/cax68080/kiteretsu/blob/main/%E3%80%8C%E8%B5%A4%E3%81%AE%E4%BB%96%E4%BA%BA%E3%80%8D%E3%81%AE%E5%AF%BE%E7%BE%A9%E8%AA%9E%E3%81%AF%E3%80%8C%E7%99%BD%E3%81%84%E6%81%8B%E4%BA%BA%E3%80%8D%E3%82%92AI%E3%81%A7%E8%87%AA%E5%8B%95%E7%94%9F%E6%88%90%E3%81%99%E3%82%8B.ipynb\" target=\"_parent\"><img src=\"https://colab.research.google.com/assets/colab-badge.svg\" alt=\"Open In Colab\"/></a>"
      ]
    },
    {
      "cell_type": "code",
      "execution_count": 1,
      "metadata": {
        "colab": {
          "base_uri": "https://localhost:8080/"
        },
        "id": "-nXATtQzXLlF",
        "outputId": "df3b1064-1b5e-43d4-e004-4e14ca51648c"
      },
      "outputs": [
        {
          "output_type": "stream",
          "name": "stdout",
          "text": [
            "Mounted at /content/drive\n"
          ]
        }
      ],
      "source": [
        "from google.colab import drive\n",
        "drive.mount(\"/content/drive\")"
      ]
    },
    {
      "cell_type": "code",
      "source": [
        "#!mkdir -p /content/drive/MyDrive/KITERETU\n",
        "# Word2vecの学習済モデルをダウンロードする\n",
        "!curl -o /content/drive/MyDrive/KITERETU/gw2v160.model https://storage.googleapis.com/nlp_youwht/w2v/gw2v160.model\n",
        "!curl -o /content/drive/MyDrive/KITERETU/gw2v160.model.trainables.syn1neg.npy https://storage.googleapis.com/nlp_youwht/w2v/gw2v160.model.trainables.syn1neg.npy\n",
        "!curl -o /content/drive/MyDrive/KITERETU/gw2v160.model.wv.vectors.npy https://storage.googleapis.com/nlp_youwht/w2v/gw2v160.model.wv.vectors.npy\n"
      ],
      "metadata": {
        "colab": {
          "base_uri": "https://localhost:8080/"
        },
        "id": "u7zhXpbWZG_P",
        "outputId": "24414afb-0557-463b-bc08-ca7aa1250f2b"
      },
      "execution_count": 5,
      "outputs": [
        {
          "output_type": "stream",
          "name": "stdout",
          "text": [
            "  % Total    % Received % Xferd  Average Speed   Time    Time     Time  Current\n",
            "                                 Dload  Upload   Total   Spent    Left  Speed\n",
            "100 19.1M  100 19.1M    0     0  35.6M      0 --:--:-- --:--:-- --:--:-- 35.5M\n",
            "  % Total    % Received % Xferd  Average Speed   Time    Time     Time  Current\n",
            "                                 Dload  Upload   Total   Spent    Left  Speed\n",
            "100  179M  100  179M    0     0  51.6M      0  0:00:03  0:00:03 --:--:-- 51.6M\n",
            "  % Total    % Received % Xferd  Average Speed   Time    Time     Time  Current\n",
            "                                 Dload  Upload   Total   Spent    Left  Speed\n",
            "100  179M  100  179M    0     0  29.7M      0  0:00:06  0:00:06 --:--:-- 43.8M\n"
          ]
        }
      ]
    }
  ]
}