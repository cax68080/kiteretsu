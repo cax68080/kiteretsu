{
 "cells": [
  {
   "cell_type": "markdown",
   "id": "9387a0bd",
   "metadata": {},
   "source": [
    "### ネガポジ分析をやってみよう！"
   ]
  },
  {
   "cell_type": "code",
   "execution_count": 1,
   "id": "8b563a19",
   "metadata": {},
   "outputs": [
    {
     "name": "stderr",
     "output_type": "stream",
     "text": [
      "  % Total    % Received % Xferd  Average Speed   Time    Time     Time  Current\n",
      "                                 Dload  Upload   Total   Spent    Left  Speed\n",
      "\n",
      "  0     0    0     0    0     0      0      0 --:--:-- --:--:-- --:--:--     0\n",
      "100  676k  100  676k    0     0  2937k      0 --:--:-- --:--:-- --:--:-- 2955k\n"
     ]
    }
   ],
   "source": [
    "#日本語評価極性辞書のダウンロード\n",
    "!curl http://www.cl.ecei.tohoku.ac.jp/resources/sent_lex/pn.csv.m3.120408.trim > pn.csv"
   ]
  },
  {
   "cell_type": "code",
   "execution_count": 1,
   "id": "93712f42",
   "metadata": {},
   "outputs": [
    {
     "name": "stdout",
     "output_type": "stream",
     "text": [
      "0\n",
      "1000\n",
      "2000\n",
      "3000\n",
      "4000\n",
      "5000\n",
      "6000\n",
      "7000\n",
      "8000\n",
      "9000\n",
      "10000\n",
      "11000\n",
      "12000\n",
      "13000\n",
      "ok\n"
     ]
    }
   ],
   "source": [
    "# ダウンロードしたネガポジ辞書データの読み込み\n",
    "import csv\n",
    "np_dic ={}\n",
    "# utf-8の文字コードを指定してファイルを開く\n",
    "fp = open(\"pn.csv\",\"rt\",encoding=\"utf-8\")\n",
    "# タブ区切り形式でCSVデータを読む\n",
    "reader =csv.reader(fp,delimiter='\\t')\n",
    "# 各行ごとに処理を行う\n",
    "for i,row in enumerate(reader):\n",
    "    #行ごとのデータは以下の形式であり、\n",
    "    #愛情p　～がある・高まる（存在・性質）\n",
    "    #冒頭の見出し語をnameに、\n",
    "    #次のp or n or e などをresultに格納\n",
    "    name = row[0]\n",
    "    result = row[1]\n",
    "    np_dic[name] = result\n",
    "    if i % 1000 == 0: print(i)\n",
    "print(\"ok\")"
   ]
  },
  {
   "cell_type": "code",
   "execution_count": 3,
   "id": "eb45b89c",
   "metadata": {},
   "outputs": [
    {
     "name": "stdout",
     "output_type": "stream",
     "text": [
      "n\n",
      "n\n",
      "n\n",
      "p\n",
      "p\n",
      "p\n",
      "e\n",
      "e\n",
      "e\n"
     ]
    }
   ],
   "source": [
    "#読み込んだ辞書データの確認\n",
    "#n = ネガティブ、p = ポジティブ、e = ニュートラル\n",
    "print(np_dic[\"激怒\"])\n",
    "print(np_dic[\"苦情\"])\n",
    "print(np_dic[\"悲観\"])\n",
    "print(np_dic[\"喜び\"])\n",
    "print(np_dic[\"勝利\"])\n",
    "print(np_dic[\"上品\"])\n",
    "print(np_dic[\"商品\"])\n",
    "print(np_dic[\"奔走\"])\n",
    "print(np_dic[\"時間\"])"
   ]
  },
  {
   "cell_type": "code",
   "execution_count": 2,
   "id": "81d0254b",
   "metadata": {
    "collapsed": true
   },
   "outputs": [
    {
     "name": "stdout",
     "output_type": "stream",
     "text": [
      "Requirement already satisfied: janome in c:\\programdata\\anaconda3\\lib\\site-packages (0.4.1)"
     ]
    },
    {
     "name": "stderr",
     "output_type": "stream",
     "text": [
      "WARNING: Ignoring invalid distribution -tml5lib (c:\\programdata\\anaconda3\\lib\\site-packages)\n",
      "WARNING: Ignoring invalid distribution -ip (c:\\programdata\\anaconda3\\lib\\site-packages)\n",
      "WARNING: Ignoring invalid distribution -tml5lib (c:\\programdata\\anaconda3\\lib\\site-packages)\n",
      "WARNING: Ignoring invalid distribution -ip (c:\\programdata\\anaconda3\\lib\\site-packages)\n",
      "WARNING: Ignoring invalid distribution -tml5lib (c:\\programdata\\anaconda3\\lib\\site-packages)\n",
      "WARNING: Ignoring invalid distribution -ip (c:\\programdata\\anaconda3\\lib\\site-packages)\n",
      "WARNING: Ignoring invalid distribution -tml5lib (c:\\programdata\\anaconda3\\lib\\site-packages)\n",
      "WARNING: Ignoring invalid distribution -ip (c:\\programdata\\anaconda3\\lib\\site-packages)\n"
     ]
    },
    {
     "name": "stdout",
     "output_type": "stream",
     "text": [
      "\n"
     ]
    },
    {
     "name": "stderr",
     "output_type": "stream",
     "text": [
      "WARNING: Ignoring invalid distribution -tml5lib (c:\\programdata\\anaconda3\\lib\\site-packages)\n",
      "WARNING: Ignoring invalid distribution -ip (c:\\programdata\\anaconda3\\lib\\site-packages)\n"
     ]
    }
   ],
   "source": [
    "#janomeのインストール\n",
    "!pip install janome"
   ]
  },
  {
   "cell_type": "code",
   "execution_count": 3,
   "id": "8ac71c3b",
   "metadata": {},
   "outputs": [
    {
     "name": "stdout",
     "output_type": "stream",
     "text": [
      "POS:最高\n",
      "POS:賞賛\n",
      "NEG:嵐\n",
      "NEG:悲劇\n",
      "(2, 2, 19)\n"
     ]
    }
   ],
   "source": [
    "#文章に対してネガポジ分析を行うコード\n",
    "# Janomeのロード\n",
    "from janome.tokenizer import Tokenizer\n",
    "\n",
    "# Tokenizer インスタンスの生成\n",
    "tokenizer = Tokenizer()\n",
    "\n",
    "# 入力した文字列に対して、\n",
    "# ポジティブ単語数、ネガティブ単語数、全単語数、の3つを返す\n",
    "def np_rate(input_str):\n",
    "    pos_cnt = 0\n",
    "    neg_cnt = 0\n",
    "    word_cnt = 0\n",
    "    tokens = tokenizer.tokenize(input_str)\n",
    "    \n",
    "    for token in tokens:\n",
    "        base_form = token.base_form\n",
    "        \n",
    "        # ネガポジ辞書に存在するか確認して対応するほうを1ふやす\n",
    "        if base_form in np_dic:\n",
    "            # 単語を辞書のキーとして、そのバリューがpかnか確認する\n",
    "            if np_dic[base_form] == \"p\":\n",
    "                pos_cnt += 1\n",
    "                # どんな言葉がポジ判定されているか確認用\n",
    "                print(\"POS:\" + base_form)\n",
    "            if np_dic[base_form] == \"n\":\n",
    "                neg_cnt += 1\n",
    "                # どんな言葉がネガ判定しているか確認用\n",
    "                print(\"NEG:\" + base_form)\n",
    "        #存在しようとしまいが単語数を１増やす\n",
    "        word_cnt += 1\n",
    "    return pos_cnt,neg_cnt,word_cnt\n",
    "print(np_rate(\"今日は最高！なにもかもうまくいった。賞賛の嵐だ。悲劇なんて起きないよ\"))"
   ]
  },
  {
   "cell_type": "markdown",
   "id": "408397b7",
   "metadata": {},
   "source": [
    "## 走れメロスのデータをダウンロード＆加工"
   ]
  },
  {
   "cell_type": "code",
   "execution_count": 17,
   "id": "8b24dd85",
   "metadata": {},
   "outputs": [
    {
     "name": "stderr",
     "output_type": "stream",
     "text": [
      "'wget' は、内部コマンドまたは外部コマンド、\n",
      "操作可能なプログラムまたはバッチ ファイルとして認識されていません。\n"
     ]
    }
   ],
   "source": [
    "#!wget http://x0213.org/codetable/jisx0213-2004-std.txt"
   ]
  },
  {
   "cell_type": "code",
   "execution_count": 6,
   "id": "f82b6f48",
   "metadata": {},
   "outputs": [],
   "source": [
    "# ダウンロード関数をインポート\n",
    "import aozora_dl as ad"
   ]
  },
  {
   "cell_type": "code",
   "execution_count": 7,
   "id": "0690c3cc",
   "metadata": {},
   "outputs": [
    {
     "name": "stdout",
     "output_type": "stream",
     "text": [
      "1567_ruby_4948.zip\n",
      "Download URL =  https://www.aozora.gr.jp/cards/000035/files/1567_ruby_4948.zip\n",
      "1567_ruby_4948\\hashire_merosu.txt\n"
     ]
    }
   ],
   "source": [
    "# ダウンロードしたいURLを入力する\n",
    "ZIP_URL = 'https://www.aozora.gr.jp/cards/000035/files/1567_ruby_4948.zip'\n",
    "\n",
    "# 青空文庫からダウンロードする関数を実行\n",
    "aozota_dl_text = ad.get_flat_text_from_aozora(ZIP_URL)"
   ]
  },
  {
   "cell_type": "markdown",
   "id": "0e096458",
   "metadata": {},
   "source": [
    "### メロスはどれくらいで冷めたのか？"
   ]
  },
  {
   "cell_type": "code",
   "execution_count": 6,
   "id": "a71cb5c3",
   "metadata": {},
   "outputs": [],
   "source": [
    "#走れメロスのデータをダウンロード＆加工して使いやすく\n",
    "\n",
    "import aozora_dl\n",
    "\n",
    "#ダウンロードしたいURLを入力する"
   ]
  },
  {
   "cell_type": "code",
   "execution_count": null,
   "id": "475c8086",
   "metadata": {},
   "outputs": [],
   "source": []
  }
 ],
 "metadata": {
  "kernelspec": {
   "display_name": "Python 3 (ipykernel)",
   "language": "python",
   "name": "python3"
  },
  "language_info": {
   "codemirror_mode": {
    "name": "ipython",
    "version": 3
   },
   "file_extension": ".py",
   "mimetype": "text/x-python",
   "name": "python",
   "nbconvert_exporter": "python",
   "pygments_lexer": "ipython3",
   "version": "3.9.7"
  }
 },
 "nbformat": 4,
 "nbformat_minor": 5
}
