{
 "cells": [
  {
   "cell_type": "markdown",
   "id": "2acc07c9",
   "metadata": {},
   "source": [
    "### ひらがなをカタカナに直す関数"
   ]
  },
  {
   "cell_type": "code",
   "execution_count": 1,
   "id": "963d4839",
   "metadata": {},
   "outputs": [
    {
     "name": "stdout",
     "output_type": "stream",
     "text": [
      "ココニ入レタ文章ノヒラガナヲカタカナニ変エルヨ。\n"
     ]
    }
   ],
   "source": [
    "#ひらがなをカタカナに直す関数\n",
    "def hira_to_kata(input_str):\n",
    "    return \"\".join([chr(ord(ch) + 96) if (\"ぁ\" <= ch <=\"ん\") else ch for ch in input_str])\n",
    "print(hira_to_kata(\"ここに入れた文章のひらがなをカタカナに変えるよ。\"))"
   ]
  },
  {
   "cell_type": "markdown",
   "id": "da0859d9",
   "metadata": {},
   "source": [
    "### 魏延降臨"
   ]
  },
  {
   "cell_type": "code",
   "execution_count": 3,
   "id": "540698f4",
   "metadata": {},
   "outputs": [
    {
     "name": "stdout",
     "output_type": "stream",
     "text": [
      "コレ デ 今日 カラ ミンナ 原始 人 ニ ナル 。 \n",
      "人民 ノ 人民 ニヨル 人民 ノ タメ ノ 政治 \n",
      "大イナル 力 ニ ハ 大イナル 責任 ガ 伴ウ 。 \n"
     ]
    }
   ],
   "source": [
    "#Janomeのロード\n",
    "from janome.tokenizer import Tokenizer\n",
    "\n",
    "# Tokenizerインスタンス生成\n",
    "tokenizer = Tokenizer()\n",
    "\n",
    "#日本語を魏延語にする関数\n",
    "def nihongo2giengo(input_str):\n",
    "    #形態素解析の実施\n",
    "    tokens = tokenizer.tokenize(input_str)\n",
    "    #各tokenを魏延語変換器にかける\n",
    "    result_str = \"\"\n",
    "    for token in tokens:\n",
    "        result_str += token2giengo(token) + \" \"\n",
    "    return result_str\n",
    "\n",
    "#ひらがなをカタカナに直す関数\n",
    "def hira_to_kata(input_str):\n",
    "    return \"\".join([chr(ord(ch) + 96) if (\"ぁ\" <= ch <=\"ん\") else ch for ch in input_str])\n",
    "\n",
    "#tokenが助詞の場合は空文字列、それ以外は、\n",
    "#元の単語のひらがなをカタカナにする関数\n",
    "def token2giengo(input_token):\n",
    "    #if input_token.part_of_speech.split(',')[0] == \"助詞\":\n",
    "    #    return \"\"\n",
    "    #else:\n",
    "        #「ひらがな」を「カタカナ」に変える関数をもとの単語に適用\n",
    "    return hira_to_kata(input_token.surface)\n",
    "print(nihongo2giengo(\"これで今日からみんな原始人になる。\"))\n",
    "print(nihongo2giengo(\"人民の人民による人民のための政治\"))\n",
    "print(nihongo2giengo(\"大いなる力には大いなる責任が伴う。\"))"
   ]
  },
  {
   "cell_type": "code",
   "execution_count": null,
   "id": "8afaf56c",
   "metadata": {},
   "outputs": [],
   "source": []
  }
 ],
 "metadata": {
  "kernelspec": {
   "display_name": "Python 3 (ipykernel)",
   "language": "python",
   "name": "python3"
  },
  "language_info": {
   "codemirror_mode": {
    "name": "ipython",
    "version": 3
   },
   "file_extension": ".py",
   "mimetype": "text/x-python",
   "name": "python",
   "nbconvert_exporter": "python",
   "pygments_lexer": "ipython3",
   "version": "3.9.7"
  }
 },
 "nbformat": 4,
 "nbformat_minor": 5
}
